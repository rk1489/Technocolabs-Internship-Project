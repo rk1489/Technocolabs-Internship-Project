{
 "cells": [
  {
   "cell_type": "markdown",
   "metadata": {},
   "source": [
    "**Run the following two cells before you begin.**"
   ]
  },
  {
   "cell_type": "code",
   "execution_count": 7,
   "metadata": {},
   "outputs": [
    {
     "data": {
      "application/javascript": [
       "IPython.notebook.set_autosave_interval(10000)"
      ]
     },
     "metadata": {},
     "output_type": "display_data"
    },
    {
     "name": "stdout",
     "output_type": "stream",
     "text": [
      "Autosaving every 10 seconds\n"
     ]
    }
   ],
   "source": [
    "%autosave 10"
   ]
  },
  {
   "cell_type": "code",
   "execution_count": 8,
   "metadata": {},
   "outputs": [],
   "source": [
    "import pandas as pd\n",
    "import numpy as np\n",
    "import matplotlib.pyplot as plt\n",
    "\n",
    "%matplotlib inline\n",
    "\n",
    "df = pd.read_csv('cleaned_data.csv')"
   ]
  },
  {
   "cell_type": "markdown",
   "metadata": {},
   "source": [
    "**Run the following 3 cells to create a list of features, create a train/test split, and instantiate a random forest classifier.**"
   ]
  },
  {
   "cell_type": "code",
   "execution_count": 9,
   "metadata": {},
   "outputs": [
    {
     "data": {
      "text/plain": [
       "['LIMIT_BAL',\n",
       " 'EDUCATION',\n",
       " 'MARRIAGE',\n",
       " 'AGE',\n",
       " 'PAY_1',\n",
       " 'BILL_AMT1',\n",
       " 'BILL_AMT2',\n",
       " 'BILL_AMT3',\n",
       " 'BILL_AMT4',\n",
       " 'BILL_AMT5',\n",
       " 'BILL_AMT6',\n",
       " 'PAY_AMT1',\n",
       " 'PAY_AMT2',\n",
       " 'PAY_AMT3',\n",
       " 'PAY_AMT4',\n",
       " 'PAY_AMT5',\n",
       " 'PAY_AMT6',\n",
       " 'default payment next month']"
      ]
     },
     "execution_count": 9,
     "metadata": {},
     "output_type": "execute_result"
    }
   ],
   "source": [
    "features_response = df.columns.tolist()\n",
    "items_to_remove = ['ID', 'SEX', 'PAY_2', 'PAY_3', 'PAY_4', 'PAY_5', 'PAY_6',\n",
    "                   'EDUCATION_CAT', 'graduate school', 'high school', 'none',\n",
    "                   'others', 'university']\n",
    "features_response = [item for item in features_response if item not in items_to_remove]\n",
    "features_response"
   ]
  },
  {
   "cell_type": "code",
   "execution_count": 10,
   "metadata": {},
   "outputs": [],
   "source": [
    "from sklearn.model_selection import train_test_split\n",
    "\n",
    "X_train, X_test, y_train, y_test = train_test_split(\n",
    "    df[features_response[:-1]].values,\n",
    "    df['default payment next month'].values,\n",
    "    test_size=0.2, random_state=24\n",
    ")"
   ]
  },
  {
   "cell_type": "code",
   "execution_count": 11,
   "metadata": {},
   "outputs": [],
   "source": [
    "from sklearn.ensemble import RandomForestClassifier\n",
    "\n",
    "rf = RandomForestClassifier(\n",
    "    n_estimators=10, criterion='gini', max_depth=3,\n",
    "    min_samples_split=2, min_samples_leaf=1, min_weight_fraction_leaf=0.0,\n",
    "    max_features='auto', max_leaf_nodes=None, min_impurity_decrease=0.0,\n",
    "    min_impurity_split=None, bootstrap=True, oob_score=False, n_jobs=None,\n",
    "    random_state=4, verbose=0, warm_start=False, class_weight=None\n",
    ")"
   ]
  },
  {
   "cell_type": "markdown",
   "metadata": {},
   "source": [
    "**Create a dictionary representing the grid for the `max_depth` and `n_estimators` hyperparameters that will be searched. Include depths of 3, 6, 9, and 12, and 10, 50, 100, and 200 trees.**"
   ]
  },
  {
   "cell_type": "code",
   "execution_count": 15,
   "metadata": {},
   "outputs": [],
   "source": [
    "params_rf = {'max_depth':[3, 6, 9, 12], \n",
    "            'n_estimators':[10,50,100,200]}"
   ]
  },
  {
   "cell_type": "markdown",
   "metadata": {},
   "source": [
    "________________________________________________________________\n",
    "**Instantiate a `GridSearchCV` object using the same options that we have previously in this course, but with the dictionary of hyperparameters created above. Set `verbose=2` to see the output for each fit performed.**"
   ]
  },
  {
   "cell_type": "code",
   "execution_count": 16,
   "metadata": {},
   "outputs": [],
   "source": [
    "from sklearn.model_selection import GridSearchCV\n",
    "\n",
    "cv_rf = GridSearchCV(rf, param_grid=params_rf, scoring='roc_auc',\n",
    "                  n_jobs=None, iid=False, refit=True, cv=4, verbose=2,\n",
    "                  pre_dispatch=None, error_score=np.nan, return_train_score=True)"
   ]
  },
  {
   "cell_type": "markdown",
   "metadata": {},
   "source": [
    "____________________________________________________\n",
    "**Fit the `GridSearchCV` object on the training data.**"
   ]
  },
  {
   "cell_type": "code",
   "execution_count": 17,
   "metadata": {},
   "outputs": [
    {
     "name": "stdout",
     "output_type": "stream",
     "text": [
      "Fitting 4 folds for each of 16 candidates, totalling 64 fits\n",
      "[CV] max_depth=3, n_estimators=10 ....................................\n"
     ]
    },
    {
     "name": "stderr",
     "output_type": "stream",
     "text": [
      "[Parallel(n_jobs=1)]: Using backend SequentialBackend with 1 concurrent workers.\n"
     ]
    },
    {
     "name": "stdout",
     "output_type": "stream",
     "text": [
      "[CV] ..................... max_depth=3, n_estimators=10, total=   0.5s\n",
      "[CV] max_depth=3, n_estimators=10 ....................................\n",
      "[CV] ..................... max_depth=3, n_estimators=10, total=   0.1s\n",
      "[CV] max_depth=3, n_estimators=10 ....................................\n"
     ]
    },
    {
     "name": "stderr",
     "output_type": "stream",
     "text": [
      "[Parallel(n_jobs=1)]: Done   1 out of   1 | elapsed:    0.5s remaining:    0.0s\n"
     ]
    },
    {
     "name": "stdout",
     "output_type": "stream",
     "text": [
      "[CV] ..................... max_depth=3, n_estimators=10, total=   0.1s\n",
      "[CV] max_depth=3, n_estimators=10 ....................................\n",
      "[CV] ..................... max_depth=3, n_estimators=10, total=   0.1s\n",
      "[CV] max_depth=3, n_estimators=50 ....................................\n",
      "[CV] ..................... max_depth=3, n_estimators=50, total=   0.5s\n",
      "[CV] max_depth=3, n_estimators=50 ....................................\n",
      "[CV] ..................... max_depth=3, n_estimators=50, total=   0.5s\n",
      "[CV] max_depth=3, n_estimators=50 ....................................\n",
      "[CV] ..................... max_depth=3, n_estimators=50, total=   0.5s\n",
      "[CV] max_depth=3, n_estimators=50 ....................................\n",
      "[CV] ..................... max_depth=3, n_estimators=50, total=   0.5s\n",
      "[CV] max_depth=3, n_estimators=100 ...................................\n",
      "[CV] .................... max_depth=3, n_estimators=100, total=   1.0s\n",
      "[CV] max_depth=3, n_estimators=100 ...................................\n",
      "[CV] .................... max_depth=3, n_estimators=100, total=   1.0s\n",
      "[CV] max_depth=3, n_estimators=100 ...................................\n",
      "[CV] .................... max_depth=3, n_estimators=100, total=   0.9s\n",
      "[CV] max_depth=3, n_estimators=100 ...................................\n",
      "[CV] .................... max_depth=3, n_estimators=100, total=   0.9s\n",
      "[CV] max_depth=3, n_estimators=200 ...................................\n",
      "[CV] .................... max_depth=3, n_estimators=200, total=   1.9s\n",
      "[CV] max_depth=3, n_estimators=200 ...................................\n",
      "[CV] .................... max_depth=3, n_estimators=200, total=   1.9s\n",
      "[CV] max_depth=3, n_estimators=200 ...................................\n",
      "[CV] .................... max_depth=3, n_estimators=200, total=   1.9s\n",
      "[CV] max_depth=3, n_estimators=200 ...................................\n",
      "[CV] .................... max_depth=3, n_estimators=200, total=   1.9s\n",
      "[CV] max_depth=6, n_estimators=10 ....................................\n",
      "[CV] ..................... max_depth=6, n_estimators=10, total=   0.2s\n",
      "[CV] max_depth=6, n_estimators=10 ....................................\n",
      "[CV] ..................... max_depth=6, n_estimators=10, total=   0.2s\n",
      "[CV] max_depth=6, n_estimators=10 ....................................\n",
      "[CV] ..................... max_depth=6, n_estimators=10, total=   0.2s\n",
      "[CV] max_depth=6, n_estimators=10 ....................................\n",
      "[CV] ..................... max_depth=6, n_estimators=10, total=   0.2s\n",
      "[CV] max_depth=6, n_estimators=50 ....................................\n",
      "[CV] ..................... max_depth=6, n_estimators=50, total=   0.8s\n",
      "[CV] max_depth=6, n_estimators=50 ....................................\n",
      "[CV] ..................... max_depth=6, n_estimators=50, total=   0.9s\n",
      "[CV] max_depth=6, n_estimators=50 ....................................\n",
      "[CV] ..................... max_depth=6, n_estimators=50, total=   0.8s\n",
      "[CV] max_depth=6, n_estimators=50 ....................................\n",
      "[CV] ..................... max_depth=6, n_estimators=50, total=   0.8s\n",
      "[CV] max_depth=6, n_estimators=100 ...................................\n",
      "[CV] .................... max_depth=6, n_estimators=100, total=   1.7s\n",
      "[CV] max_depth=6, n_estimators=100 ...................................\n",
      "[CV] .................... max_depth=6, n_estimators=100, total=   1.6s\n",
      "[CV] max_depth=6, n_estimators=100 ...................................\n",
      "[CV] .................... max_depth=6, n_estimators=100, total=   1.6s\n",
      "[CV] max_depth=6, n_estimators=100 ...................................\n",
      "[CV] .................... max_depth=6, n_estimators=100, total=   1.7s\n",
      "[CV] max_depth=6, n_estimators=200 ...................................\n",
      "[CV] .................... max_depth=6, n_estimators=200, total=   3.4s\n",
      "[CV] max_depth=6, n_estimators=200 ...................................\n",
      "[CV] .................... max_depth=6, n_estimators=200, total=   3.3s\n",
      "[CV] max_depth=6, n_estimators=200 ...................................\n",
      "[CV] .................... max_depth=6, n_estimators=200, total=   3.3s\n",
      "[CV] max_depth=6, n_estimators=200 ...................................\n",
      "[CV] .................... max_depth=6, n_estimators=200, total=   3.3s\n",
      "[CV] max_depth=9, n_estimators=10 ....................................\n",
      "[CV] ..................... max_depth=9, n_estimators=10, total=   0.2s\n",
      "[CV] max_depth=9, n_estimators=10 ....................................\n",
      "[CV] ..................... max_depth=9, n_estimators=10, total=   0.2s\n",
      "[CV] max_depth=9, n_estimators=10 ....................................\n",
      "[CV] ..................... max_depth=9, n_estimators=10, total=   0.2s\n",
      "[CV] max_depth=9, n_estimators=10 ....................................\n",
      "[CV] ..................... max_depth=9, n_estimators=10, total=   0.2s\n",
      "[CV] max_depth=9, n_estimators=50 ....................................\n",
      "[CV] ..................... max_depth=9, n_estimators=50, total=   1.2s\n",
      "[CV] max_depth=9, n_estimators=50 ....................................\n",
      "[CV] ..................... max_depth=9, n_estimators=50, total=   1.2s\n",
      "[CV] max_depth=9, n_estimators=50 ....................................\n",
      "[CV] ..................... max_depth=9, n_estimators=50, total=   1.2s\n",
      "[CV] max_depth=9, n_estimators=50 ....................................\n",
      "[CV] ..................... max_depth=9, n_estimators=50, total=   1.2s\n",
      "[CV] max_depth=9, n_estimators=100 ...................................\n",
      "[CV] .................... max_depth=9, n_estimators=100, total=   2.3s\n",
      "[CV] max_depth=9, n_estimators=100 ...................................\n",
      "[CV] .................... max_depth=9, n_estimators=100, total=   2.4s\n",
      "[CV] max_depth=9, n_estimators=100 ...................................\n",
      "[CV] .................... max_depth=9, n_estimators=100, total=   2.4s\n",
      "[CV] max_depth=9, n_estimators=100 ...................................\n",
      "[CV] .................... max_depth=9, n_estimators=100, total=   2.4s\n",
      "[CV] max_depth=9, n_estimators=200 ...................................\n",
      "[CV] .................... max_depth=9, n_estimators=200, total=   4.7s\n",
      "[CV] max_depth=9, n_estimators=200 ...................................\n",
      "[CV] .................... max_depth=9, n_estimators=200, total=   4.6s\n",
      "[CV] max_depth=9, n_estimators=200 ...................................\n",
      "[CV] .................... max_depth=9, n_estimators=200, total=   4.6s\n",
      "[CV] max_depth=9, n_estimators=200 ...................................\n",
      "[CV] .................... max_depth=9, n_estimators=200, total=   4.6s\n",
      "[CV] max_depth=12, n_estimators=10 ...................................\n",
      "[CV] .................... max_depth=12, n_estimators=10, total=   0.3s\n",
      "[CV] max_depth=12, n_estimators=10 ...................................\n",
      "[CV] .................... max_depth=12, n_estimators=10, total=   0.3s\n",
      "[CV] max_depth=12, n_estimators=10 ...................................\n",
      "[CV] .................... max_depth=12, n_estimators=10, total=   0.3s\n",
      "[CV] max_depth=12, n_estimators=10 ...................................\n",
      "[CV] .................... max_depth=12, n_estimators=10, total=   0.3s\n",
      "[CV] max_depth=12, n_estimators=50 ...................................\n",
      "[CV] .................... max_depth=12, n_estimators=50, total=   1.5s\n",
      "[CV] max_depth=12, n_estimators=50 ...................................\n",
      "[CV] .................... max_depth=12, n_estimators=50, total=   1.5s\n",
      "[CV] max_depth=12, n_estimators=50 ...................................\n",
      "[CV] .................... max_depth=12, n_estimators=50, total=   1.5s\n",
      "[CV] max_depth=12, n_estimators=50 ...................................\n",
      "[CV] .................... max_depth=12, n_estimators=50, total=   1.5s\n",
      "[CV] max_depth=12, n_estimators=100 ..................................\n",
      "[CV] ................... max_depth=12, n_estimators=100, total=   2.9s\n",
      "[CV] max_depth=12, n_estimators=100 ..................................\n",
      "[CV] ................... max_depth=12, n_estimators=100, total=   2.9s\n",
      "[CV] max_depth=12, n_estimators=100 ..................................\n",
      "[CV] ................... max_depth=12, n_estimators=100, total=   2.9s\n",
      "[CV] max_depth=12, n_estimators=100 ..................................\n",
      "[CV] ................... max_depth=12, n_estimators=100, total=   2.9s\n",
      "[CV] max_depth=12, n_estimators=200 ..................................\n"
     ]
    },
    {
     "name": "stdout",
     "output_type": "stream",
     "text": [
      "[CV] ................... max_depth=12, n_estimators=200, total=   5.8s\n",
      "[CV] max_depth=12, n_estimators=200 ..................................\n",
      "[CV] ................... max_depth=12, n_estimators=200, total=   5.8s\n",
      "[CV] max_depth=12, n_estimators=200 ..................................\n",
      "[CV] ................... max_depth=12, n_estimators=200, total=   5.8s\n",
      "[CV] max_depth=12, n_estimators=200 ..................................\n",
      "[CV] ................... max_depth=12, n_estimators=200, total=   5.8s\n"
     ]
    },
    {
     "name": "stderr",
     "output_type": "stream",
     "text": [
      "[Parallel(n_jobs=1)]: Done  64 out of  64 | elapsed:  2.0min finished\n"
     ]
    },
    {
     "data": {
      "text/plain": [
       "GridSearchCV(cv=4, error_score=nan,\n",
       "             estimator=RandomForestClassifier(bootstrap=True, class_weight=None,\n",
       "                                              criterion='gini', max_depth=3,\n",
       "                                              max_features='auto',\n",
       "                                              max_leaf_nodes=None,\n",
       "                                              min_impurity_decrease=0.0,\n",
       "                                              min_impurity_split=None,\n",
       "                                              min_samples_leaf=1,\n",
       "                                              min_samples_split=2,\n",
       "                                              min_weight_fraction_leaf=0.0,\n",
       "                                              n_estimators=10, n_jobs=None,\n",
       "                                              oob_score=False, random_state=4,\n",
       "                                              verbose=0, warm_start=False),\n",
       "             iid=False, n_jobs=None,\n",
       "             param_grid={'max_depth': [3, 6, 9, 12],\n",
       "                         'n_estimators': [10, 50, 100, 200]},\n",
       "             pre_dispatch=None, refit=True, return_train_score=True,\n",
       "             scoring='roc_auc', verbose=2)"
      ]
     },
     "execution_count": 17,
     "metadata": {},
     "output_type": "execute_result"
    }
   ],
   "source": [
    "cv_rf.fit(X_train, y_train)"
   ]
  },
  {
   "cell_type": "markdown",
   "metadata": {},
   "source": [
    "___________________________________________________________\n",
    "**Put the results of the grid search in a pandas DataFrame.**"
   ]
  },
  {
   "cell_type": "code",
   "execution_count": 38,
   "metadata": {
    "scrolled": true
   },
   "outputs": [
    {
     "name": "stdout",
     "output_type": "stream",
     "text": [
      "(16, 20)\n"
     ]
    },
    {
     "data": {
      "text/html": [
       "<div>\n",
       "<style scoped>\n",
       "    .dataframe tbody tr th:only-of-type {\n",
       "        vertical-align: middle;\n",
       "    }\n",
       "\n",
       "    .dataframe tbody tr th {\n",
       "        vertical-align: top;\n",
       "    }\n",
       "\n",
       "    .dataframe thead th {\n",
       "        text-align: right;\n",
       "    }\n",
       "</style>\n",
       "<table border=\"1\" class=\"dataframe\">\n",
       "  <thead>\n",
       "    <tr style=\"text-align: right;\">\n",
       "      <th></th>\n",
       "      <th>mean_fit_time</th>\n",
       "      <th>std_fit_time</th>\n",
       "      <th>mean_score_time</th>\n",
       "      <th>std_score_time</th>\n",
       "      <th>param_max_depth</th>\n",
       "      <th>param_n_estimators</th>\n",
       "      <th>params</th>\n",
       "      <th>split0_test_score</th>\n",
       "      <th>split1_test_score</th>\n",
       "      <th>split2_test_score</th>\n",
       "      <th>split3_test_score</th>\n",
       "      <th>mean_test_score</th>\n",
       "      <th>std_test_score</th>\n",
       "      <th>rank_test_score</th>\n",
       "      <th>split0_train_score</th>\n",
       "      <th>split1_train_score</th>\n",
       "      <th>split2_train_score</th>\n",
       "      <th>split3_train_score</th>\n",
       "      <th>mean_train_score</th>\n",
       "      <th>std_train_score</th>\n",
       "    </tr>\n",
       "  </thead>\n",
       "  <tbody>\n",
       "    <tr>\n",
       "      <th>0</th>\n",
       "      <td>0.157647</td>\n",
       "      <td>0.103651</td>\n",
       "      <td>0.049992</td>\n",
       "      <td>0.083151</td>\n",
       "      <td>3</td>\n",
       "      <td>10</td>\n",
       "      <td>{'max_depth': 3, 'n_estimators': 10}</td>\n",
       "      <td>0.739183</td>\n",
       "      <td>0.746599</td>\n",
       "      <td>0.772127</td>\n",
       "      <td>0.771322</td>\n",
       "      <td>0.757308</td>\n",
       "      <td>0.014656</td>\n",
       "      <td>15</td>\n",
       "      <td>0.767973</td>\n",
       "      <td>0.767158</td>\n",
       "      <td>0.760550</td>\n",
       "      <td>0.763683</td>\n",
       "      <td>0.764841</td>\n",
       "      <td>0.002955</td>\n",
       "    </tr>\n",
       "    <tr>\n",
       "      <th>1</th>\n",
       "      <td>0.468045</td>\n",
       "      <td>0.009970</td>\n",
       "      <td>0.019530</td>\n",
       "      <td>0.006787</td>\n",
       "      <td>3</td>\n",
       "      <td>50</td>\n",
       "      <td>{'max_depth': 3, 'n_estimators': 50}</td>\n",
       "      <td>0.748009</td>\n",
       "      <td>0.755878</td>\n",
       "      <td>0.779465</td>\n",
       "      <td>0.771250</td>\n",
       "      <td>0.763651</td>\n",
       "      <td>0.012379</td>\n",
       "      <td>12</td>\n",
       "      <td>0.775241</td>\n",
       "      <td>0.774025</td>\n",
       "      <td>0.765732</td>\n",
       "      <td>0.766947</td>\n",
       "      <td>0.770486</td>\n",
       "      <td>0.004191</td>\n",
       "    </tr>\n",
       "  </tbody>\n",
       "</table>\n",
       "</div>"
      ],
      "text/plain": [
       "   mean_fit_time  std_fit_time  mean_score_time  std_score_time  \\\n",
       "0       0.157647      0.103651         0.049992        0.083151   \n",
       "1       0.468045      0.009970         0.019530        0.006787   \n",
       "\n",
       "  param_max_depth param_n_estimators                                params  \\\n",
       "0               3                 10  {'max_depth': 3, 'n_estimators': 10}   \n",
       "1               3                 50  {'max_depth': 3, 'n_estimators': 50}   \n",
       "\n",
       "   split0_test_score  split1_test_score  split2_test_score  split3_test_score  \\\n",
       "0           0.739183           0.746599           0.772127           0.771322   \n",
       "1           0.748009           0.755878           0.779465           0.771250   \n",
       "\n",
       "   mean_test_score  std_test_score  rank_test_score  split0_train_score  \\\n",
       "0         0.757308        0.014656               15            0.767973   \n",
       "1         0.763651        0.012379               12            0.775241   \n",
       "\n",
       "   split1_train_score  split2_train_score  split3_train_score  \\\n",
       "0            0.767158            0.760550            0.763683   \n",
       "1            0.774025            0.765732            0.766947   \n",
       "\n",
       "   mean_train_score  std_train_score  \n",
       "0          0.764841         0.002955  \n",
       "1          0.770486         0.004191  "
      ]
     },
     "execution_count": 38,
     "metadata": {},
     "output_type": "execute_result"
    }
   ],
   "source": [
    "cv_rf_results_df = pd.DataFrame(cv_rf.cv_results_)\n",
    "\n",
    "print(cv_rf_results_df.shape) \n",
    "\n",
    "cv_rf_results_df.head(2)"
   ]
  },
  {
   "cell_type": "markdown",
   "metadata": {},
   "source": [
    "**Find the best hyperparameters from the cross-validation.**"
   ]
  },
  {
   "cell_type": "code",
   "execution_count": 20,
   "metadata": {},
   "outputs": [
    {
     "data": {
      "text/plain": [
       "{'max_depth': 9, 'n_estimators': 200}"
      ]
     },
     "execution_count": 20,
     "metadata": {},
     "output_type": "execute_result"
    }
   ],
   "source": [
    "cv_rf.best_params_"
   ]
  },
  {
   "cell_type": "markdown",
   "metadata": {},
   "source": [
    "________________________________________________________________________________________________________\n",
    "**Create a `pcolormesh` visualization of the mean testing score for each combination of hyperparameters.**\n",
    "\n",
    "<details>\n",
    "    <summary>Hint:</summary>\n",
    "    Remember to reshape the values of the mean testing scores to be a two-dimensional 4x4 grid.\n",
    "</details>"
   ]
  },
  {
   "cell_type": "code",
   "execution_count": 68,
   "metadata": {},
   "outputs": [],
   "source": [
    "# Create a 5x5 grid\n",
    "x = [0] + params_rf['max_depth']\n",
    "y = [0] + params_rf['n_estimators']\n",
    "\n",
    "x_grid, y_grid = np.meshgrid(x,y)\n",
    "z = cv_rf_results_df['mean_test_score'].values.reshape(4,4)"
   ]
  },
  {
   "cell_type": "code",
   "execution_count": 69,
   "metadata": {},
   "outputs": [
    {
     "data": {
      "text/plain": [
       "<Figure size 2400x1600 with 0 Axes>"
      ]
     },
     "metadata": {},
     "output_type": "display_data"
    }
   ],
   "source": [
    "# Set color map to `plt.cm.jet`\n",
    "plt.set_cmap(plt.cm.jet)"
   ]
  },
  {
   "cell_type": "code",
   "execution_count": 70,
   "metadata": {
    "eid": "f0c62"
   },
   "outputs": [
    {
     "data": {
      "text/plain": [
       "Text(0, 0.5, 'n_estimators')"
      ]
     },
     "execution_count": 70,
     "metadata": {},
     "output_type": "execute_result"
    },
    {
     "data": {
      "image/png": "[encoded data removed]",
      "text/plain": [
       "<Figure size 2400x1600 with 2 Axes>"
      ]
     },
     "metadata": {
      "needs_background": "light"
     },
     "output_type": "display_data"
    }
   ],
   "source": [
    "# Visualize pcolormesh\n",
    "import matplotlib as mpl\n",
    "mpl.rcParams['figure.dpi'] = 400\n",
    "\n",
    "ax = plt.axes()\n",
    "pcolor_ex = ax.pcolormesh(x_grid, y_grid, z)\n",
    "plt.colorbar(pcolor_ex, label='Mean Testing Score')\n",
    "ax.set_xlabel('max_depth')\n",
    "ax.set_ylabel('n_estimators')"
   ]
  },
  {
   "cell_type": "markdown",
   "metadata": {},
   "source": [
    "________________________________________________________________________________________________________\n",
    "**Conclude which set of hyperparameters to use.**"
   ]
  },
  {
   "cell_type": "code",
   "execution_count": 74,
   "metadata": {},
   "outputs": [],
   "source": [
    "# Create a dataframe of the feature names and importance\n",
    "feature_imp_dict = {'Feature name':features_response[:-1],\n",
    "            'Importance':cv_rf.best_estimator_.feature_importances_}\n",
    "feature_imp_df = pd.DataFrame(feature_imp_dict)"
   ]
  },
  {
   "cell_type": "code",
   "execution_count": 75,
   "metadata": {},
   "outputs": [
    {
     "data": {
      "text/html": [
       "<div>\n",
       "<style scoped>\n",
       "    .dataframe tbody tr th:only-of-type {\n",
       "        vertical-align: middle;\n",
       "    }\n",
       "\n",
       "    .dataframe tbody tr th {\n",
       "        vertical-align: top;\n",
       "    }\n",
       "\n",
       "    .dataframe thead th {\n",
       "        text-align: right;\n",
       "    }\n",
       "</style>\n",
       "<table border=\"1\" class=\"dataframe\">\n",
       "  <thead>\n",
       "    <tr style=\"text-align: right;\">\n",
       "      <th></th>\n",
       "      <th>Feature name</th>\n",
       "      <th>Importance</th>\n",
       "    </tr>\n",
       "  </thead>\n",
       "  <tbody>\n",
       "    <tr>\n",
       "      <th>4</th>\n",
       "      <td>PAY_1</td>\n",
       "      <td>0.437439</td>\n",
       "    </tr>\n",
       "    <tr>\n",
       "      <th>0</th>\n",
       "      <td>LIMIT_BAL</td>\n",
       "      <td>0.059961</td>\n",
       "    </tr>\n",
       "    <tr>\n",
       "      <th>11</th>\n",
       "      <td>PAY_AMT1</td>\n",
       "      <td>0.059434</td>\n",
       "    </tr>\n",
       "    <tr>\n",
       "      <th>12</th>\n",
       "      <td>PAY_AMT2</td>\n",
       "      <td>0.045518</td>\n",
       "    </tr>\n",
       "    <tr>\n",
       "      <th>13</th>\n",
       "      <td>PAY_AMT3</td>\n",
       "      <td>0.043299</td>\n",
       "    </tr>\n",
       "    <tr>\n",
       "      <th>5</th>\n",
       "      <td>BILL_AMT1</td>\n",
       "      <td>0.042195</td>\n",
       "    </tr>\n",
       "    <tr>\n",
       "      <th>6</th>\n",
       "      <td>BILL_AMT2</td>\n",
       "      <td>0.041562</td>\n",
       "    </tr>\n",
       "    <tr>\n",
       "      <th>7</th>\n",
       "      <td>BILL_AMT3</td>\n",
       "      <td>0.037268</td>\n",
       "    </tr>\n",
       "    <tr>\n",
       "      <th>14</th>\n",
       "      <td>PAY_AMT4</td>\n",
       "      <td>0.034321</td>\n",
       "    </tr>\n",
       "    <tr>\n",
       "      <th>8</th>\n",
       "      <td>BILL_AMT4</td>\n",
       "      <td>0.034123</td>\n",
       "    </tr>\n",
       "    <tr>\n",
       "      <th>10</th>\n",
       "      <td>BILL_AMT6</td>\n",
       "      <td>0.033839</td>\n",
       "    </tr>\n",
       "    <tr>\n",
       "      <th>9</th>\n",
       "      <td>BILL_AMT5</td>\n",
       "      <td>0.032413</td>\n",
       "    </tr>\n",
       "    <tr>\n",
       "      <th>15</th>\n",
       "      <td>PAY_AMT5</td>\n",
       "      <td>0.030734</td>\n",
       "    </tr>\n",
       "    <tr>\n",
       "      <th>16</th>\n",
       "      <td>PAY_AMT6</td>\n",
       "      <td>0.029070</td>\n",
       "    </tr>\n",
       "    <tr>\n",
       "      <th>3</th>\n",
       "      <td>AGE</td>\n",
       "      <td>0.026774</td>\n",
       "    </tr>\n",
       "    <tr>\n",
       "      <th>1</th>\n",
       "      <td>EDUCATION</td>\n",
       "      <td>0.007545</td>\n",
       "    </tr>\n",
       "    <tr>\n",
       "      <th>2</th>\n",
       "      <td>MARRIAGE</td>\n",
       "      <td>0.004504</td>\n",
       "    </tr>\n",
       "  </tbody>\n",
       "</table>\n",
       "</div>"
      ],
      "text/plain": [
       "   Feature name  Importance\n",
       "4         PAY_1    0.437439\n",
       "0     LIMIT_BAL    0.059961\n",
       "11     PAY_AMT1    0.059434\n",
       "12     PAY_AMT2    0.045518\n",
       "13     PAY_AMT3    0.043299\n",
       "5     BILL_AMT1    0.042195\n",
       "6     BILL_AMT2    0.041562\n",
       "7     BILL_AMT3    0.037268\n",
       "14     PAY_AMT4    0.034321\n",
       "8     BILL_AMT4    0.034123\n",
       "10    BILL_AMT6    0.033839\n",
       "9     BILL_AMT5    0.032413\n",
       "15     PAY_AMT5    0.030734\n",
       "16     PAY_AMT6    0.029070\n",
       "3           AGE    0.026774\n",
       "1     EDUCATION    0.007545\n",
       "2      MARRIAGE    0.004504"
      ]
     },
     "execution_count": 75,
     "metadata": {},
     "output_type": "execute_result"
    }
   ],
   "source": [
    "# Sort values by importance\n",
    "feature_imp_df.sort_values('Importance', ascending=False)"
   ]
  }
 ],
 "metadata": {
  "kernelspec": {
   "display_name": "Python 3",
   "language": "python",
   "name": "python3"
  },
  "language_info": {
   "codemirror_mode": {
    "name": "ipython",
    "version": 3
   },
   "file_extension": ".py",
   "mimetype": "text/x-python",
   "name": "python",
   "nbconvert_exporter": "python",
   "pygments_lexer": "ipython3",
   "version": "3.7.3"
  }
 },
 "nbformat": 4,
 "nbformat_minor": 2
}
